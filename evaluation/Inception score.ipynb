{
 "cells": [
  {
   "cell_type": "code",
   "execution_count": 3,
   "id": "8ec7b893",
   "metadata": {},
   "outputs": [],
   "source": [
    "import torch\n",
    "\n",
    "from ignite.engine import *\n",
    "from ignite.handlers import *\n",
    "from ignite.metrics import *\n",
    "from ignite.utils import *\n",
    "from ignite.contrib.metrics.regression import *\n",
    "from ignite.contrib.metrics import *\n",
    "\n",
    "def eval_step(engine, batch):\n",
    "    return batch\n",
    "\n",
    "default_evaluator = Engine(eval_step)"
   ]
  },
  {
   "cell_type": "code",
   "execution_count": 4,
   "id": "b6bf3c80",
   "metadata": {},
   "outputs": [
    {
     "name": "stdout",
     "output_type": "stream",
     "text": [
      "1.8528969020625026\n"
     ]
    }
   ],
   "source": [
    "metric = InceptionScore()\n",
    "metric.attach(default_evaluator, \"is\")\n",
    "x = torch.rand(64, 3, 128, 128)\n",
    "y = torch.rand(64, 3, 128, 128)\n",
    "state = default_evaluator.run([x,y])\n",
    "print(state.metrics[\"is\"])"
   ]
  },
  {
   "cell_type": "code",
   "execution_count": null,
   "id": "7ff33ad5",
   "metadata": {},
   "outputs": [],
   "source": []
  }
 ],
 "metadata": {
  "kernelspec": {
   "display_name": "Python 3 (ipykernel)",
   "language": "python",
   "name": "python3"
  },
  "language_info": {
   "codemirror_mode": {
    "name": "ipython",
    "version": 3
   },
   "file_extension": ".py",
   "mimetype": "text/x-python",
   "name": "python",
   "nbconvert_exporter": "python",
   "pygments_lexer": "ipython3",
   "version": "3.9.15"
  }
 },
 "nbformat": 4,
 "nbformat_minor": 5
}
